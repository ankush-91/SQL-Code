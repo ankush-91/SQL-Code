{
  "nbformat": 4,
  "nbformat_minor": 0,
  "metadata": {
    "colab": {
      "provenance": [],
      "authorship_tag": "ABX9TyOa++WM69IqQ/ALe/M8yhZ1",
      "include_colab_link": true
    },
    "kernelspec": {
      "name": "python3",
      "display_name": "Python 3"
    },
    "language_info": {
      "name": "python"
    }
  },
  "cells": [
    {
      "cell_type": "markdown",
      "metadata": {
        "id": "view-in-github",
        "colab_type": "text"
      },
      "source": [
        "<a href=\"https://colab.research.google.com/github/ankush-91/beginner/blob/master/ankush_sql_code.ipynb\" target=\"_parent\"><img src=\"https://colab.research.google.com/assets/colab-badge.svg\" alt=\"Open In Colab\"/></a>"
      ]
    },
    {
      "cell_type": "code",
      "execution_count": null,
      "metadata": {
        "id": "PpmmQQl6jRUr"
      },
      "outputs": [],
      "source": [
        "<a href=\"https://www.hackerrank.com/challenges/binary-search-tree-1/problem?isFullScreen=false\" alt=\"Open In Colab\"/></a>\n",
        "\n",
        "select N,\n",
        "case when P is null then 'Root'\n",
        " when N in (select P from BST) then 'Inner' else \"Leaf\" end\n",
        "from BST order by N"
      ]
    },
    {
      "cell_type": "code",
      "source": [
        "Problem Link: https://www.hackerrank.com/challenges/weather-observation-station-5/problem?isFullScreen=true\n",
        "\n",
        "with CTE as (\n",
        "select CITY,\n",
        "    len(CITY) AS LENGTH,\n",
        "row_number() over (order by len(CITY), CITY) ROW_NUM\n",
        "    from STATION\n",
        ")\n",
        "\n",
        "select CITY, LENGTH from CTE where ROW_NUM in (select min(ROW_NUM) from CTE) or\n",
        "ROW_NUM in (select max(ROW_NUM) from CTE)"
      ],
      "metadata": {
        "id": "3TncbGZqjf_Y"
      },
      "execution_count": null,
      "outputs": []
    },
    {
      "cell_type": "code",
      "source": [
        "Problem Link: https://www.hackerrank.com/challenges/the-company/problem?isFullScreen=true\n",
        "\n",
        "with all_data as (\n",
        "select c.company_code,\n",
        "c.founder,\n",
        "l.lead_manager_code,\n",
        "s.senior_manager_code,\n",
        "m.manager_code,\n",
        "e.employee_code from\n",
        "\n",
        "company c join lead_manager l on\n",
        "    c.company_code = l.company_code\n",
        "join senior_manager s on\n",
        "    s.company_code = l.company_code and s.lead_manager_code = l.lead_manager_code\n",
        "join manager m on\n",
        "    m.senior_manager_code = s.senior_manager_code and\n",
        "    m.lead_manager_code = s.lead_manager_code and\n",
        "    m.company_code = s.company_code\n",
        "join employee e on\n",
        "    e.manager_code = m.manager_code and\n",
        "    e.senior_manager_code = m.senior_manager_code and\n",
        "    e.lead_manager_code = m.lead_manager_code and\n",
        "    e.company_code = m.company_code\n",
        ")\n",
        "\n",
        "select company_code,\n",
        "founder,\n",
        "count(distinct lead_manager_code),\n",
        "count(distinct senior_manager_code),\n",
        "count(distinct manager_code),\n",
        "count(distinct employee_code)\n",
        "from all_data group by company_code, founder order by company_code asc\n",
        "\n",
        ""
      ],
      "metadata": {
        "id": "c9NL8ua1llH2"
      },
      "execution_count": null,
      "outputs": []
    },
    {
      "cell_type": "code",
      "source": [
        "Problem Link: https://www.hackerrank.com/challenges/the-report/problem?isFullScreen=true\n",
        "select iif(g.grade<8,null, s.Name),\n",
        "g.Grade,\n",
        "s.Marks  from Students s join Grades g on\n",
        "s.marks between g.min_mark and g.max_mark order by grade desc, name asc, marks asc;"
      ],
      "metadata": {
        "id": "ZMhQWElAqmzn"
      },
      "execution_count": null,
      "outputs": []
    }
  ]
}
